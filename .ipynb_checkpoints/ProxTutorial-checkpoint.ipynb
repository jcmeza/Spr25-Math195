{
 "cells": [
  {
   "cell_type": "code",
   "execution_count": 1,
   "id": "28218da0-2dd6-4120-8050-3ee09266509f",
   "metadata": {},
   "outputs": [
    {
     "name": "stdout",
     "output_type": "stream",
     "text": [
      "Collecting proxop\n",
      "  Downloading proxop-1.0.6-py3-none-any.whl.metadata (26 kB)\n",
      "Requirement already satisfied: numpy>=1.14.0 in /opt/anaconda3/lib/python3.11/site-packages (from proxop) (1.26.4)\n",
      "Requirement already satisfied: scipy>=1.8.0 in /opt/anaconda3/lib/python3.11/site-packages (from proxop) (1.11.4)\n",
      "Downloading proxop-1.0.6-py3-none-any.whl (200 kB)\n",
      "\u001b[2K   \u001b[90m━━━━━━━━━━━━━━━━━━━━━━━━━━━━━━━━━━━━━━━━\u001b[0m \u001b[32m200.5/200.5 kB\u001b[0m \u001b[31m4.3 MB/s\u001b[0m eta \u001b[36m0:00:00\u001b[0ma \u001b[36m0:00:01\u001b[0m\n",
      "\u001b[?25hInstalling collected packages: proxop\n",
      "Successfully installed proxop-1.0.6\n",
      "Note: you may need to restart the kernel to use updated packages.\n"
     ]
    }
   ],
   "source": [
    "pip install proxop"
   ]
  },
  {
   "cell_type": "code",
   "execution_count": 3,
   "id": "62b1ea3d-ddbf-40be-b8a3-081c80953eca",
   "metadata": {},
   "outputs": [
    {
     "data": {
      "text/plain": [
       "array([-2.,  0.,  5.,  2.])"
      ]
     },
     "execution_count": 3,
     "metadata": {},
     "output_type": "execute_result"
    }
   ],
   "source": [
    "from proxop import AbsValue\n",
    "import numpy as np\n",
    "\n",
    "x = np.array([ -3., 1., 6., 3.])\n",
    "AbsValue().prox(x)\n",
    "# result: array([-2.,  0.,  5., 2.])"
   ]
  },
  {
   "cell_type": "code",
   "execution_count": 4,
   "id": "8c17f905-6fca-4c69-97be-cea97f4e0318",
   "metadata": {},
   "outputs": [
    {
     "data": {
      "text/plain": [
       "array([-3.,  1.,  6.,  3.])"
      ]
     },
     "execution_count": 4,
     "metadata": {},
     "output_type": "execute_result"
    }
   ],
   "source": [
    "x"
   ]
  },
  {
   "cell_type": "code",
   "execution_count": 6,
   "id": "d0d605c6-a165-4f0f-b9ba-0bb72c48bc30",
   "metadata": {},
   "outputs": [],
   "source": [
    "import numpy as np\n",
    "import time as time\n",
    "\n",
    "# Default inputs of the FBPD function\n",
    "class EmptyFunction:\n",
    "    def fun(x):      return 0\n",
    "    def grad(x):     return 0\n",
    "    def prox(x,tau): return x\n",
    "    def dir_op(x):   return x\n",
    "    def adj_op(x):   return x\n",
    "\n",
    "# Default algorithmic parameters: 'tol' and maximum number of iterations\n",
    "opt_= {'tol': 1e-4, 'iter': 500}\n",
    "\n",
    "def FBPD(x_init, f=EmptyFunction(), g=EmptyFunction(), h=EmptyFunction(), opt=opt_):\n",
    "\n",
    "    # algorithmic parameters\n",
    "    tol      = opt['tol']\n",
    "    max_iter = opt['iter']\n",
    "    \n",
    "    # step-sizes\n",
    "    tau   = 2.0 / (g.beta + 2.0)\n",
    "    sigma = (1.0/tau - g.beta/2.0) / h.beta\n",
    "\n",
    "    # initialization\n",
    "    x = x_init\n",
    "    y = h.dir_op(x)\n",
    "\n",
    "    print('Running FBPD...')\n",
    "    \n",
    "    timing = np.zeros(max_iter)\n",
    "    criter = np.zeros(max_iter)\n",
    "\n",
    "    # algorithm loop\n",
    "    stop=False\n",
    "    it=0\n",
    "    while (it < max_iter) and (not stop):\n",
    "    \n",
    "        t = time.time()\n",
    "    \n",
    "        # primal forward-backward step\n",
    "        x_old = x;\n",
    "        x = x - tau * ( g.grad(x) + h.adj_op(y) );\n",
    "        x = f.prox(x, tau);\n",
    "    \n",
    "        # dual forward-backward step\n",
    "        y = y + sigma * h.dir_op(2*x - x_old);\n",
    "        y = y - sigma * h.prox(y/sigma, 1/sigma);   \n",
    "\n",
    "        # time and criterion\n",
    "        timing[it] = time.time() - t\n",
    "        criter[it] = f.fun(x) + g.fun(x) + h.fun(h.dir_op(x));\n",
    "           \n",
    "        # stopping rule\n",
    "        if np.linalg.norm(x - x_old) < tol * np.linalg.norm(x_old) and it > 10:\n",
    "           break\n",
    "    \n",
    "        print(str(it)+'out of'+str(max_iter)+'iterations')\n",
    "\n",
    "    criter = criter[0:it+1];\n",
    "    timing = np.cumsum(timing[0:it+1]);\n",
    "    \n",
    "    return x, it, timing, criter"
   ]
  },
  {
   "cell_type": "code",
   "execution_count": 7,
   "id": "af94206a-476e-472d-8822-185ab4268f3a",
   "metadata": {},
   "outputs": [
    {
     "ename": "FileNotFoundError",
     "evalue": "[Errno 2] No such file or directory: 'firemen.jpg'",
     "output_type": "error",
     "traceback": [
      "\u001b[0;31m---------------------------------------------------------------------------\u001b[0m",
      "\u001b[0;31mFileNotFoundError\u001b[0m                         Traceback (most recent call last)",
      "Cell \u001b[0;32mIn[7], line 7\u001b[0m\n\u001b[1;32m      3\u001b[0m get_ipython()\u001b[38;5;241m.\u001b[39mrun_line_magic(\u001b[38;5;124m'\u001b[39m\u001b[38;5;124mmatplotlib\u001b[39m\u001b[38;5;124m'\u001b[39m, \u001b[38;5;124m'\u001b[39m\u001b[38;5;124minline\u001b[39m\u001b[38;5;124m'\u001b[39m)\n\u001b[1;32m      5\u001b[0m \u001b[38;5;66;03m# original image\u001b[39;00m\n\u001b[0;32m----> 7\u001b[0m x_bar \u001b[38;5;241m=\u001b[39m plt\u001b[38;5;241m.\u001b[39mimread(\u001b[38;5;124m'\u001b[39m\u001b[38;5;124mfiremen.jpg\u001b[39m\u001b[38;5;124m'\u001b[39m)\n\u001b[1;32m      8\u001b[0m x_bar \u001b[38;5;241m=\u001b[39m x_bar\u001b[38;5;241m.\u001b[39mastype(np\u001b[38;5;241m.\u001b[39mfloat64)\n\u001b[1;32m     10\u001b[0m \u001b[38;5;66;03m# blur operator\u001b[39;00m\n",
      "File \u001b[0;32m/opt/anaconda3/lib/python3.11/site-packages/matplotlib/pyplot.py:2389\u001b[0m, in \u001b[0;36mimread\u001b[0;34m(fname, format)\u001b[0m\n\u001b[1;32m   2385\u001b[0m \u001b[38;5;129m@_copy_docstring_and_deprecators\u001b[39m(matplotlib\u001b[38;5;241m.\u001b[39mimage\u001b[38;5;241m.\u001b[39mimread)\n\u001b[1;32m   2386\u001b[0m \u001b[38;5;28;01mdef\u001b[39;00m \u001b[38;5;21mimread\u001b[39m(\n\u001b[1;32m   2387\u001b[0m         fname: \u001b[38;5;28mstr\u001b[39m \u001b[38;5;241m|\u001b[39m pathlib\u001b[38;5;241m.\u001b[39mPath \u001b[38;5;241m|\u001b[39m BinaryIO, \u001b[38;5;28mformat\u001b[39m: \u001b[38;5;28mstr\u001b[39m \u001b[38;5;241m|\u001b[39m \u001b[38;5;28;01mNone\u001b[39;00m \u001b[38;5;241m=\u001b[39m \u001b[38;5;28;01mNone\u001b[39;00m\n\u001b[1;32m   2388\u001b[0m ) \u001b[38;5;241m-\u001b[39m\u001b[38;5;241m>\u001b[39m np\u001b[38;5;241m.\u001b[39mndarray:\n\u001b[0;32m-> 2389\u001b[0m     \u001b[38;5;28;01mreturn\u001b[39;00m matplotlib\u001b[38;5;241m.\u001b[39mimage\u001b[38;5;241m.\u001b[39mimread(fname, \u001b[38;5;28mformat\u001b[39m)\n",
      "File \u001b[0;32m/opt/anaconda3/lib/python3.11/site-packages/matplotlib/image.py:1525\u001b[0m, in \u001b[0;36mimread\u001b[0;34m(fname, format)\u001b[0m\n\u001b[1;32m   1518\u001b[0m \u001b[38;5;28;01mif\u001b[39;00m \u001b[38;5;28misinstance\u001b[39m(fname, \u001b[38;5;28mstr\u001b[39m) \u001b[38;5;129;01mand\u001b[39;00m \u001b[38;5;28mlen\u001b[39m(parse\u001b[38;5;241m.\u001b[39murlparse(fname)\u001b[38;5;241m.\u001b[39mscheme) \u001b[38;5;241m>\u001b[39m \u001b[38;5;241m1\u001b[39m:\n\u001b[1;32m   1519\u001b[0m     \u001b[38;5;66;03m# Pillow doesn't handle URLs directly.\u001b[39;00m\n\u001b[1;32m   1520\u001b[0m     \u001b[38;5;28;01mraise\u001b[39;00m \u001b[38;5;167;01mValueError\u001b[39;00m(\n\u001b[1;32m   1521\u001b[0m         \u001b[38;5;124m\"\u001b[39m\u001b[38;5;124mPlease open the URL for reading and pass the \u001b[39m\u001b[38;5;124m\"\u001b[39m\n\u001b[1;32m   1522\u001b[0m         \u001b[38;5;124m\"\u001b[39m\u001b[38;5;124mresult to Pillow, e.g. with \u001b[39m\u001b[38;5;124m\"\u001b[39m\n\u001b[1;32m   1523\u001b[0m         \u001b[38;5;124m\"\u001b[39m\u001b[38;5;124m``np.array(PIL.Image.open(urllib.request.urlopen(url)))``.\u001b[39m\u001b[38;5;124m\"\u001b[39m\n\u001b[1;32m   1524\u001b[0m         )\n\u001b[0;32m-> 1525\u001b[0m \u001b[38;5;28;01mwith\u001b[39;00m img_open(fname) \u001b[38;5;28;01mas\u001b[39;00m image:\n\u001b[1;32m   1526\u001b[0m     \u001b[38;5;28;01mreturn\u001b[39;00m (_pil_png_to_float_array(image)\n\u001b[1;32m   1527\u001b[0m             \u001b[38;5;28;01mif\u001b[39;00m \u001b[38;5;28misinstance\u001b[39m(image, PIL\u001b[38;5;241m.\u001b[39mPngImagePlugin\u001b[38;5;241m.\u001b[39mPngImageFile) \u001b[38;5;28;01melse\u001b[39;00m\n\u001b[1;32m   1528\u001b[0m             pil_to_array(image))\n",
      "File \u001b[0;32m/opt/anaconda3/lib/python3.11/site-packages/PIL/Image.py:3247\u001b[0m, in \u001b[0;36mopen\u001b[0;34m(fp, mode, formats)\u001b[0m\n\u001b[1;32m   3244\u001b[0m     filename \u001b[38;5;241m=\u001b[39m fp\n\u001b[1;32m   3246\u001b[0m \u001b[38;5;28;01mif\u001b[39;00m filename:\n\u001b[0;32m-> 3247\u001b[0m     fp \u001b[38;5;241m=\u001b[39m builtins\u001b[38;5;241m.\u001b[39mopen(filename, \u001b[38;5;124m\"\u001b[39m\u001b[38;5;124mrb\u001b[39m\u001b[38;5;124m\"\u001b[39m)\n\u001b[1;32m   3248\u001b[0m     exclusive_fp \u001b[38;5;241m=\u001b[39m \u001b[38;5;28;01mTrue\u001b[39;00m\n\u001b[1;32m   3250\u001b[0m \u001b[38;5;28;01mtry\u001b[39;00m:\n",
      "\u001b[0;31mFileNotFoundError\u001b[0m: [Errno 2] No such file or directory: 'firemen.jpg'"
     ]
    }
   ],
   "source": [
    "import scipy.ndimage.filters as fil\n",
    "import matplotlib.pyplot as plt\n",
    "%matplotlib inline \n",
    "\n",
    "# original image\n",
    "    \n",
    "x_bar = plt.imread('firemen.jpg')\n",
    "x_bar = x_bar.astype(np.float64)\n",
    "\n",
    "# blur operator\n",
    "psf = (3, 3, 1)\n",
    "\n",
    "# noisy image\n",
    "z = fil.uniform_filter(x_bar, psf) + 20 * np.random.randn(*x_bar.shape);\n",
    "\n",
    "# visualization\n",
    "plt.imshow(x_bar/255)\n",
    "plt.title('Original image')\n",
    "plt.figure()\n",
    "plt.imshow(np.clip(z/255,0,1))\n",
    "plt.title('Noisy image')\n"
   ]
  }
 ],
 "metadata": {
  "kernelspec": {
   "display_name": "Python 3 (ipykernel)",
   "language": "python",
   "name": "python3"
  },
  "language_info": {
   "codemirror_mode": {
    "name": "ipython",
    "version": 3
   },
   "file_extension": ".py",
   "mimetype": "text/x-python",
   "name": "python",
   "nbconvert_exporter": "python",
   "pygments_lexer": "ipython3",
   "version": "3.11.7"
  }
 },
 "nbformat": 4,
 "nbformat_minor": 5
}
